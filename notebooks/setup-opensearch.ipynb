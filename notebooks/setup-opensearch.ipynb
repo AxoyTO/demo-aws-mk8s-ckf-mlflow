{
 "cells": [
  {
   "cell_type": "markdown",
   "id": "85abbee5-4ed7-478a-adc8-518dba143723",
   "metadata": {},
   "source": [
    "# Setup Opensearch for Multicloud E2E RAG demo"
   ]
  },
  {
   "cell_type": "markdown",
   "id": "3195e557-0bed-4f13-a202-9bd3fd06ea5b",
   "metadata": {},
   "source": [
    "## Create index"
   ]
  },
  {
   "cell_type": "code",
   "execution_count": null,
   "id": "26b42333-bab1-41f5-8e36-17bcda2d308f",
   "metadata": {},
   "outputs": [],
   "source": [
    "!pip install opensearch-py -q"
   ]
  },
  {
   "cell_type": "code",
   "execution_count": null,
   "id": "5a4cc902-0a70-4197-a184-27219144d0ed",
   "metadata": {},
   "outputs": [],
   "source": [
    "from opensearchpy import OpenSearch\n",
    "\n",
    "import os"
   ]
  },
  {
   "cell_type": "code",
   "execution_count": null,
   "id": "a4d19cc7-6db5-4b8c-9379-f4356a61767a",
   "metadata": {},
   "outputs": [],
   "source": [
    "host = os.environ['OPENSEARCH_HOST']\n",
    "port = os.environ['OPENSEARCH_PORT']\n",
    "auth = (\n",
    "    os.environ['OPENSEARCH_USER'],\n",
    "    os.environ['OPENSEARCH_PASSWORD']\n",
    ") \n",
    "\n",
    "client = OpenSearch(\n",
    "    hosts = [{'host': host, 'port': port}],\n",
    "    http_compress = True, \n",
    "    http_auth = auth,\n",
    "    use_ssl = True,\n",
    "    verify_certs = False,\n",
    "    ssl_assert_hostname = False,\n",
    "    ssl_show_warn = False\n",
    ")"
   ]
  },
  {
   "cell_type": "code",
   "execution_count": null,
   "id": "75b5acd7-d1a6-4e06-8777-ce4ba1bacfa3",
   "metadata": {},
   "outputs": [],
   "source": [
    "info = client.info()\n",
    "print(f\"Welcome to {info['version']['distribution']} {info['version']['number']}!\")"
   ]
  },
  {
   "cell_type": "code",
   "execution_count": null,
   "id": "b78d8c98-e075-4ed9-97bd-8022db8a01cd",
   "metadata": {},
   "outputs": [],
   "source": [
    "def delete_opensearch_index(opensearch_client, index_name):\n",
    "    print(f\"Trying to delete index {index_name}\")\n",
    "    try:\n",
    "        response = opensearch_client.indices.delete(index=index_name)\n",
    "        print(f\"Index {index_name} deleted\")\n",
    "        return response['acknowledged']\n",
    "    except Exception as e:\n",
    "        print(f\"Index {index_name} not found, nothing to delete\")\n",
    "        return True\n",
    "\n",
    "def create_index(opensearch_client, index_name):\n",
    "    settings = {\n",
    "        \"settings\": {\n",
    "            \"index\": {\n",
    "                \"knn\": True\n",
    "                }\n",
    "            }\n",
    "        }\n",
    "    response = opensearch_client.indices.create(index=index_name, body=settings)\n",
    "    return bool(response['acknowledged'])\n",
    "\n",
    "def create_index_mapping(opensearch_client, index_name):\n",
    "    response = opensearch_client.indices.put_mapping(\n",
    "        index=index_name,\n",
    "        body={\n",
    "            \"properties\": {\n",
    "                \"vector_field\": {\n",
    "                    \"type\": \"knn_vector\",\n",
    "                    \"dimension\": 384\n",
    "                },\n",
    "                \"text\": {\n",
    "                    \"type\": \"keyword\"\n",
    "                }\n",
    "            }\n",
    "        }\n",
    "    )\n",
    "    return bool(response['acknowledged'])"
   ]
  },
  {
   "cell_type": "code",
   "execution_count": null,
   "id": "e58b62a5-9ffd-40bf-a04b-3b7a66a0dafd",
   "metadata": {},
   "outputs": [],
   "source": [
    "INDEX_NAME = \"rag_index\"\n",
    "FORCE_RECREATE = True\n",
    "\n",
    "if FORCE_RECREATE:\n",
    "    delete_opensearch_index(client, INDEX_NAME)\n",
    "\n",
    "index_exists = client.indices.exists(index=INDEX_NAME)\n",
    "\n",
    "if not index_exists:\n",
    "    print(\"Creating OpenSearch index\")\n",
    "    index_created = create_index(client, INDEX_NAME)\n",
    "    if index_created:\n",
    "        print(\"Creating OpenSearch index mapping\")\n",
    "        success = create_index_mapping(client, INDEX_NAME)\n",
    "        print(f\"OpenSearch Index mapping created\")\n",
    "else:\n",
    "    print(\"Opensearch index already exists\")"
   ]
  }
 ],
 "metadata": {
  "kernelspec": {
   "display_name": "Python 3 (ipykernel)",
   "language": "python",
   "name": "python3"
  },
  "language_info": {
   "codemirror_mode": {
    "name": "ipython",
    "version": 3
   },
   "file_extension": ".py",
   "mimetype": "text/x-python",
   "name": "python",
   "nbconvert_exporter": "python",
   "pygments_lexer": "ipython3",
   "version": "3.11.9"
  }
 },
 "nbformat": 4,
 "nbformat_minor": 5
}
