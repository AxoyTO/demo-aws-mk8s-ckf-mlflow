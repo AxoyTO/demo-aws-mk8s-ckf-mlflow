{
 "cells": [
  {
   "cell_type": "markdown",
   "id": "74287c10-f359-4f23-bd87-aa161ba64ca2",
   "metadata": {},
   "source": [
    "# Setup Bucket for Multicloud E2E RAG demo"
   ]
  },
  {
   "cell_type": "markdown",
   "id": "2db036f2-5759-489c-910a-fd6cb7a10c24",
   "metadata": {},
   "source": [
    "## Create Bucket for documents in Object Storage"
   ]
  },
  {
   "cell_type": "code",
   "execution_count": null,
   "id": "445a7af7-3ef1-4b2f-be18-7d32f86a57a5",
   "metadata": {},
   "outputs": [],
   "source": [
    "!pip install \"minio<7.0\" -q"
   ]
  },
  {
   "cell_type": "code",
   "execution_count": null,
   "id": "7a428e45-d1a9-43b3-93d6-7a7ee50e934c",
   "metadata": {},
   "outputs": [],
   "source": [
    "import os\n",
    "\n",
    "from minio import Minio\n",
    "from minio.error import BucketAlreadyOwnedByYou, NoSuchKey"
   ]
  },
  {
   "cell_type": "code",
   "execution_count": null,
   "id": "d5b86a81-18da-490d-a524-ef0508e764e2",
   "metadata": {},
   "outputs": [],
   "source": [
    "MINIO_HOST = os.environ[\"MINIO_ENDPOINT_URL\"].split(\"http://\")[1]\n",
    "\n",
    "# Initialize a MinIO client\n",
    "mc = Minio(\n",
    "    endpoint=MINIO_HOST,\n",
    "    access_key=os.environ[\"AWS_ACCESS_KEY_ID\"],\n",
    "    secret_key=os.environ[\"AWS_SECRET_ACCESS_KEY\"],\n",
    "    secure=False,\n",
    ")"
   ]
  },
  {
   "cell_type": "code",
   "execution_count": null,
   "id": "ce791b26-2542-465b-b4e3-1edc9b977735",
   "metadata": {},
   "outputs": [],
   "source": [
    "BUCKET = \"rag-demo-source\"\n",
    "FORCE_RECREATE = True\n",
    "\n",
    "if FORCE_RECREATE:\n",
    "    #empty the bucket\n",
    "    for obj in mc.list_objects(BUCKET, recursive=True):\n",
    "        mc.remove_object(BUCKET, obj.object_name)\n",
    "    mc.remove_bucket(BUCKET)\n",
    "\n",
    "try:\n",
    "    mc.make_bucket(BUCKET)\n",
    "    print(f\"Bucket {BUCKET} created!\")\n",
    "except BucketAlreadyOwnedByYou:\n",
    "    print(f\"Bucket {BUCKET} already exists!\")"
   ]
  },
  {
   "cell_type": "code",
   "execution_count": null,
   "id": "89bf74ee-9686-4e6e-9a33-070a6072a7e1",
   "metadata": {},
   "outputs": [],
   "source": [
    "# List buckets\n",
    "buckets = mc.list_buckets()\n",
    "for bucket in buckets:\n",
    "    print(bucket.name)\n",
    "    # List objects in bucket\n",
    "    objects = mc.list_objects(bucket.name)\n",
    "    for obj in objects:\n",
    "        print(\"\\t\", obj.object_name)"
   ]
  },
  {
   "cell_type": "markdown",
   "id": "1668512c-b4f5-49c3-a403-8dfa94b308df",
   "metadata": {},
   "source": [
    "## Upload files from \"documents\" to the bucket"
   ]
  },
  {
   "cell_type": "code",
   "execution_count": null,
   "id": "714d4d2a-3748-45e5-a719-d8c38252720c",
   "metadata": {},
   "outputs": [],
   "source": [
    "DOCUMENT_FOLDER = \"./../documents/\"\n",
    "for f in os.listdir(DOCUMENT_FOLDER):\n",
    "    if os.path.isfile(f\"{DOCUMENT_FOLDER}/{f}\"):\n",
    "        mc.fput_object(BUCKET, f, DOCUMENT_FOLDER+f)\n",
    "        print(\"Uploaded file:\", f)"
   ]
  }
 ],
 "metadata": {
  "kernelspec": {
   "display_name": "Python 3 (ipykernel)",
   "language": "python",
   "name": "python3"
  },
  "language_info": {
   "codemirror_mode": {
    "name": "ipython",
    "version": 3
   },
   "file_extension": ".py",
   "mimetype": "text/x-python",
   "name": "python",
   "nbconvert_exporter": "python",
   "pygments_lexer": "ipython3",
   "version": "3.11.9"
  }
 },
 "nbformat": 4,
 "nbformat_minor": 5
}
