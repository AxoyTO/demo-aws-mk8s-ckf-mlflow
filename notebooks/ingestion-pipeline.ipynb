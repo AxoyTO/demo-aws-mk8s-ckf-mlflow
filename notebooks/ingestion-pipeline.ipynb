{
 "cells": [
  {
   "cell_type": "code",
   "execution_count": 12,
   "id": "bbb631b4-5cba-44f4-a611-e650b4c34671",
   "metadata": {},
   "outputs": [],
   "source": [
    "!pip install kfp[kubernetes] -q"
   ]
  },
  {
   "cell_type": "code",
   "execution_count": 36,
   "id": "c13ef2a0-e4b2-4af7-9ccc-ce1de19db50e",
   "metadata": {},
   "outputs": [],
   "source": [
    "import os\n",
    "\n",
    "import kfp\n",
    "from kfp import dsl\n",
    "from kfp import kubernetes"
   ]
  },
  {
   "cell_type": "code",
   "execution_count": null,
   "id": "6b1a09cd-d105-4820-b31e-3559d3b62e41",
   "metadata": {},
   "outputs": [],
   "source": [
    "kfp_client = kfp.Client()"
   ]
  },
  {
   "cell_type": "markdown",
   "id": "21422a2a-b827-4ab0-be5a-b96c0269f0fd",
   "metadata": {},
   "source": [
    "# Steps"
   ]
  },
  {
   "cell_type": "code",
   "execution_count": 27,
   "id": "91fc83c6-5cb4-4da4-9dfc-01c87cde8478",
   "metadata": {},
   "outputs": [],
   "source": [
    "@dsl.component(\n",
    "    base_image='python:3.11',\n",
    "    packages_to_install=[\"opensearch-py==2.7.1\"]\n",
    ")\n",
    "def setup_os(rag_index_name:str = \"rag_index\", force_recreate: bool = True):\n",
    "    import os\n",
    "    from opensearchpy import OpenSearch\n",
    "    \n",
    "    def delete_opensearch_index(opensearch_client, index_name):\n",
    "        print(f\"Trying to delete index {index_name}\")\n",
    "        try:\n",
    "            response = opensearch_client.indices.delete(index=index_name)\n",
    "            print(f\"Index {index_name} deleted\")\n",
    "            return response['acknowledged']\n",
    "        except Exception as e:\n",
    "            print(f\"Index {index_name} not found, nothing to delete\")\n",
    "            return True\n",
    "    \n",
    "    def create_index(opensearch_client, index_name):\n",
    "        settings = {\n",
    "            \"settings\": {\n",
    "                \"index\": {\n",
    "                    \"knn\": True\n",
    "                    }\n",
    "                }\n",
    "            }\n",
    "        response = opensearch_client.indices.create(index=index_name, body=settings)\n",
    "        return bool(response['acknowledged'])\n",
    "    \n",
    "    def create_index_mapping(opensearch_client, index_name):\n",
    "        response = opensearch_client.indices.put_mapping(\n",
    "            index=index_name,\n",
    "            body={\n",
    "                \"properties\": {\n",
    "                    \"vector_field\": {\n",
    "                        \"type\": \"knn_vector\",\n",
    "                        \"dimension\": 384\n",
    "                    },\n",
    "                    \"text\": {\n",
    "                        \"type\": \"keyword\"\n",
    "                    }\n",
    "                }\n",
    "            }\n",
    "        )\n",
    "        return bool(response['acknowledged'])\n",
    "\n",
    "    host = os.environ['OPENSEARCH_HOST']\n",
    "    port = os.environ['OPENSEARCH_PORT']\n",
    "    auth = (\n",
    "        os.environ['OPENSEARCH_USER'],\n",
    "        os.environ['OPENSEARCH_PASSWORD']\n",
    "    ) \n",
    "    \n",
    "    client = OpenSearch(\n",
    "        hosts = [{'host': host, 'port': port}],\n",
    "        http_compress = True, \n",
    "        http_auth = auth,\n",
    "        use_ssl = True,\n",
    "        verify_certs = False,\n",
    "        ssl_assert_hostname = False,\n",
    "        ssl_show_warn = False\n",
    "    )\n",
    "    \n",
    "    if force_recreate:\n",
    "        delete_opensearch_index(client, rag_index_name)\n",
    "    \n",
    "    index_exists = client.indices.exists(index=rag_index_name)\n",
    "    \n",
    "    if not index_exists:\n",
    "        print(\"Creating OpenSearch index\")\n",
    "        index_created = create_index(client, rag_index_name)\n",
    "        if index_created:\n",
    "            print(\"Creating OpenSearch index mapping\")\n",
    "            success = create_index_mapping(client, rag_index_name)\n",
    "            print(f\"OpenSearch Index mapping created\")\n",
    "    else:\n",
    "        print(\"Opensearch index already exists\")"
   ]
  },
  {
   "cell_type": "code",
   "execution_count": 45,
   "id": "f9932da4-3caf-49ea-a287-0f55a0f5fd8c",
   "metadata": {},
   "outputs": [],
   "source": [
    "@dsl.component(\n",
    "    base_image='python:3.11',\n",
    "    packages_to_install=[\"minio<7.0\"]\n",
    ")\n",
    "def download_data(bucket_name: str = \"rag-demo-source\", data_mount_point: str = \"/data\", data_folder: str = \"raw\") -> str:\n",
    "    import os\n",
    "\n",
    "    from minio import Minio\n",
    "    from minio.error import BucketAlreadyOwnedByYou, NoSuchKey\n",
    "\n",
    "    # Initialize a MinIO client\n",
    "    mc = Minio(\n",
    "        endpoint=os.environ[\"MINIO_ENDPOINT_URL\"].split(\"http://\")[1],\n",
    "        access_key=os.environ[\"AWS_ACCESS_KEY_ID\"],\n",
    "        secret_key=os.environ[\"AWS_SECRET_ACCESS_KEY\"],\n",
    "        secure=False,\n",
    "    )\n",
    "\n",
    "    objects = mc.list_objects(bucket_name)\n",
    "    for obj in objects:\n",
    "        mc.fget_object(bucket_name, obj.object_name, f\"{data_mount_point}/{data_folder}/{obj.object_name}\")\n",
    "        print(\"\\t\", \"Downloaded\", obj.object_name)\n",
    "\n",
    "    return data_folder"
   ]
  },
  {
   "cell_type": "code",
   "execution_count": 46,
   "id": "03527d96-969e-458a-a5e5-425298d42948",
   "metadata": {},
   "outputs": [],
   "source": [
    "@dsl.component\n",
    "def remove_unsupported_files():\n",
    "    print(\"download data\")\n",
    "\n",
    "@dsl.component\n",
    "def ingest_os():\n",
    "    print(\"download data\")\n"
   ]
  },
  {
   "cell_type": "code",
   "execution_count": 47,
   "id": "cdd40110-5a57-429b-88d6-6132e9b895cd",
   "metadata": {},
   "outputs": [],
   "source": [
    "@dsl.pipeline(\n",
    "    name=\"Ingestion Pipeline\",\n",
    "    description=\"Ingest data from S3 to OpenSearch\"\n",
    ")\n",
    "def add_pipeline(\n",
    "    rag_index_name:str = \"rag_index\",\n",
    "    rag_index_force_recreate:bool = True,\n",
    "):\n",
    "    setup_os_task = setup_os(\n",
    "        rag_index_name = rag_index_name, \n",
    "        force_recreate = rag_index_force_recreate)\n",
    "    kubernetes.use_secret_as_env(setup_os_task,\n",
    "                                 secret_name='opensearch-secret',\n",
    "                                 secret_key_to_env={\n",
    "                                     'username': 'OPENSEARCH_USER',\n",
    "                                     'password': 'OPENSEARCH_PASSWORD',\n",
    "                                     'host': 'OPENSEARCH_HOST',\n",
    "                                     'port': 'OPENSEARCH_PORT',\n",
    "                                 })\n",
    "    \n",
    "    pvc_data_ingestion = kubernetes.CreatePVC(\n",
    "        pvc_name_suffix='-data-ingestion',\n",
    "        access_modes=['ReadWriteMany'],\n",
    "        size='1Gi',\n",
    "        storage_class_name='microk8s-hostpath',\n",
    "    )\n",
    "    \n",
    "    download_data_task = download_data(\n",
    "        bucket_name = \"rag-demo-source\"\n",
    "    ).set_env_variable(\n",
    "        \"MINIO_ENDPOINT_URL\", os.environ[\"MINIO_ENDPOINT_URL\"]\n",
    "    ).set_caching_options(\n",
    "        enable_caching = False\n",
    "    ).after(setup_os_task)\n",
    "    kubernetes.use_secret_as_env(download_data_task,\n",
    "                                 secret_name='mlpipeline-minio-artifact',\n",
    "                                 secret_key_to_env={\n",
    "                                     'accesskey': 'AWS_ACCESS_KEY_ID',\n",
    "                                     'secretkey': 'AWS_SECRET_ACCESS_KEY',\n",
    "                                 })\n",
    "    kubernetes.mount_pvc(\n",
    "        download_data_task,\n",
    "        pvc_name=pvc_data_ingestion.outputs['name'],\n",
    "        mount_path='/data',\n",
    "    )\n",
    "\n",
    "    remove_unsupported_files_task = remove_unsupported_files().after(download_data_task)\n",
    "    kubernetes.mount_pvc(\n",
    "        remove_unsupported_files_task,\n",
    "        pvc_name=pvc_data_ingestion.outputs['name'],\n",
    "        mount_path='/data',\n",
    "    )\n",
    "\n",
    "    ingest_os_task = ingest_os().after(remove_unsupported_files_task)\n",
    "    kubernetes.mount_pvc(\n",
    "        ingest_os_task,\n",
    "        pvc_name=pvc_data_ingestion.outputs['name'],\n",
    "        mount_path='/data',\n",
    "    )\n",
    "\n",
    "    delete_pvc_data_ingestion = kubernetes.DeletePVC(\n",
    "        pvc_name=pvc_data_ingestion.outputs['name']\n",
    "    ).after(ingest_os_task)"
   ]
  },
  {
   "cell_type": "code",
   "execution_count": 49,
   "id": "ccb9a031-65bc-497e-9a97-7c1830671e9e",
   "metadata": {},
   "outputs": [
    {
     "data": {
      "text/html": [
       "<a href=\"/pipeline/#/experiments/details/7b7691e8-866a-4732-95c7-dcbfe984cf71\" target=\"_blank\" >Experiment details</a>."
      ],
      "text/plain": [
       "<IPython.core.display.HTML object>"
      ]
     },
     "metadata": {},
     "output_type": "display_data"
    },
    {
     "data": {
      "text/html": [
       "<a href=\"/pipeline/#/runs/details/8205624f-7865-4b79-bd18-79318e85c723\" target=\"_blank\" >Run details</a>."
      ],
      "text/plain": [
       "<IPython.core.display.HTML object>"
      ]
     },
     "metadata": {},
     "output_type": "display_data"
    },
    {
     "data": {
      "text/plain": [
       "RunPipelineResult(run_id=8205624f-7865-4b79-bd18-79318e85c723)"
      ]
     },
     "execution_count": 49,
     "metadata": {},
     "output_type": "execute_result"
    }
   ],
   "source": [
    "kfp_client.create_run_from_pipeline_func(\n",
    "    add_pipeline,\n",
    "    arguments={\n",
    "        \"rag_index_name\" : \"rag_index\",\n",
    "        \"rag_index_force_recreate\" : True,\n",
    "    }\n",
    ")"
   ]
  }
 ],
 "metadata": {
  "kernelspec": {
   "display_name": "Python 3 (ipykernel)",
   "language": "python",
   "name": "python3"
  },
  "language_info": {
   "codemirror_mode": {
    "name": "ipython",
    "version": 3
   },
   "file_extension": ".py",
   "mimetype": "text/x-python",
   "name": "python",
   "nbconvert_exporter": "python",
   "pygments_lexer": "ipython3",
   "version": "3.11.9"
  }
 },
 "nbformat": 4,
 "nbformat_minor": 5
}
